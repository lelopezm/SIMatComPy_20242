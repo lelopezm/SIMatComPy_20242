{
 "cells": [
  {
   "cell_type": "code",
   "execution_count": null,
   "metadata": {},
   "outputs": [],
   "source": []
  },
  {
   "cell_type": "markdown",
   "metadata": {},
   "source": [
    "# Listas\n",
    "\n",
    "Son arreglos de elementos en filas (vectores) y se definen por corchetes []. Sus elementos se separan por comas y para recuperar un elemento se usa la sintaxis: $lista[p]$, donde $lista$ es el nombre de la lista, y $p$ la posición del elemento a recuperar. En este caso, la primera posición será $p=0$.\n"
   ]
  },
  {
   "cell_type": "code",
   "execution_count": 15,
   "metadata": {},
   "outputs": [
    {
     "name": "stdout",
     "output_type": "stream",
     "text": [
      "perro\n",
      "gato\n",
      "7\n",
      "5\n"
     ]
    }
   ],
   "source": [
    "lista = ['perro', 'gato', 'elefante', 1, 3, 5, 7]\n",
    "#imprimimos primer elemento 'perro'\n",
    "print(lista[0])\n",
    "#imprimimos segundo elemento:\n",
    "print(lista[1])\n",
    "#si deseamos imprimir el último elemento de la lista se escribe:\n",
    "print(lista[-1])\n",
    "#si deseamos imprimir el penúltimo elemento de la lista se escribe:\n",
    "print(lista[-2])\n"
   ]
  },
  {
   "cell_type": "markdown",
   "metadata": {},
   "source": [
    "Usamos la sintaxis $list.append(elemento)$ si queremos agregar $elemento$ al final de la lista $list$"
   ]
  },
  {
   "cell_type": "code",
   "execution_count": 16,
   "metadata": {},
   "outputs": [
    {
     "name": "stdout",
     "output_type": "stream",
     "text": [
      "['perro', 'gato', 'elefante', 1, 3, 5, 7]\n",
      "['perro', 'gato', 'elefante', 1, 3, 5, 7, 23]\n"
     ]
    }
   ],
   "source": [
    "#para imprimir toda la lista\n",
    "print(lista)\n",
    "#vamos a agregar el número 23 al final de \"lista\"\n",
    "lista.append(23)\n",
    "print(lista)"
   ]
  },
  {
   "cell_type": "markdown",
   "metadata": {},
   "source": [
    "Para calcular cuantos elementos tiene una lista se usa $len(lista)$"
   ]
  },
  {
   "cell_type": "code",
   "execution_count": 17,
   "metadata": {},
   "outputs": [
    {
     "name": "stdout",
     "output_type": "stream",
     "text": [
      "8\n"
     ]
    }
   ],
   "source": [
    "print(len(lista))"
   ]
  },
  {
   "cell_type": "markdown",
   "metadata": {},
   "source": [
    "Si queremos cambiar el valor de un elemento se usa la siguiente estructura"
   ]
  },
  {
   "cell_type": "code",
   "execution_count": 18,
   "metadata": {},
   "outputs": [
    {
     "name": "stdout",
     "output_type": "stream",
     "text": [
      "['perro', 'gato', 'elefante', 1, 77, 5, 7, 23]\n"
     ]
    }
   ],
   "source": [
    "#vamos a cambiar el elemento 3 (posición 5) por el número 77 en lista\n",
    "lista[4]=77\n",
    "print(lista)"
   ]
  },
  {
   "cell_type": "markdown",
   "metadata": {},
   "source": [
    "### Otras funciones para organizar una lista\n",
    "\n",
    "- **pop:** muestra el último elemento de la lista y lo elimina\n",
    "- **reverse:** invierte los elementos de la lista (primero <-> último)\n",
    "- **extend:** extendemos la lista uno o más elementos\n",
    "- **insert:** agregamos un elemento a una lista sin eliminar elementos de la lista\n",
    "- **index:** busca la posición de un elemento de la lista\n",
    "\n",
    "por ejemplo:\n"
   ]
  },
  {
   "cell_type": "code",
   "execution_count": 19,
   "metadata": {},
   "outputs": [
    {
     "name": "stdout",
     "output_type": "stream",
     "text": [
      "['perro', 'gato', 'elefante', 1, 77, 5, 7, 23]\n",
      "['perro', 'gato', 'elefante', 1, 77, 5, 7]\n",
      "[7, 5, 77, 1, 'elefante', 'gato', 'perro']\n",
      "[7, 5, 77, 1, 'elefante', 'gato', 'perro', 'pato', 'conejo']\n",
      "[7, 5, 77, 'tortuga', 1, 'elefante', 'gato', 'perro', 'pato', 'conejo']\n",
      "5\n",
      "[7, 5, 'tortuga', 1, 'elefante', 'gato', 'perro', 'pato', 'conejo']\n"
     ]
    }
   ],
   "source": [
    "print(lista)\n",
    "#eliminamos la última posición \"23\"\n",
    "lista.pop()\n",
    "print(lista)\n",
    "#invertimos la lista\n",
    "lista.reverse()\n",
    "print(lista)\n",
    "# agregamos los elementos \"pato\", \"conejo\"  a la nueva lista\n",
    "lista.extend([\"pato\",\"conejo\"])\n",
    "print(lista)\n",
    "# agregamos el elemento \"tortuga\" entre el \"77\" y el \"1\"\n",
    "lista.insert(3,\"tortuga\")\n",
    "print(lista)\n",
    "# buscamos la posición del elemento \"elefante\"\n",
    "print(lista.index(\"elefante\"))\n",
    "# eliminamos el elemento \"77\" de la lista\n",
    "lista.remove(77)\n",
    "print(lista)"
   ]
  },
  {
   "cell_type": "markdown",
   "metadata": {},
   "source": [
    "Para sacar sublistas se usa la opción :. Por ejemplo:"
   ]
  },
  {
   "cell_type": "code",
   "execution_count": 25,
   "metadata": {},
   "outputs": [
    {
     "name": "stdout",
     "output_type": "stream",
     "text": [
      "[7, 5, 'tortuga', 1, 'elefante', 'gato', 'perro', 'pato', 'conejo']\n",
      "['tortuga', 1, 'elefante', 'gato', 'perro', 'pato']\n"
     ]
    }
   ],
   "source": [
    "print(lista)\n",
    "# formamos la sublista lista2 con los elementos desde el tercero al penúltimo de lista (p=7 o p=-2)\n",
    "p=7\n",
    "lista2 = lista[2:p+1] \n",
    "print(lista2)"
   ]
  },
  {
   "cell_type": "markdown",
   "metadata": {},
   "source": [
    "Si se define un paso $h$ se usa la forma $lista[a:b:h]$ que iria desde la posición $a$ hasta $b-1$ (porque inicia en cero)"
   ]
  },
  {
   "cell_type": "code",
   "execution_count": 30,
   "metadata": {},
   "outputs": [
    {
     "name": "stdout",
     "output_type": "stream",
     "text": [
      "[7, 5, 'tortuga', 1, 'elefante', 'gato', 'perro', 'pato', 'conejo']\n",
      "[5, 1, 'gato', 'pato']\n",
      "[7, 'tortuga', 'elefante', 'perro', 'conejo']\n"
     ]
    }
   ],
   "source": [
    "print(lista)\n",
    "lista3=lista[1:8:2] # o también lista3=lista[1::2] ya que 8 es la última posición\n",
    "print(lista3) \n",
    "lista4=lista[::2] # saca todas las  posiciones impares iniciando en cero\n",
    "print(lista4)"
   ]
  },
  {
   "cell_type": "markdown",
   "metadata": {},
   "source": [
    "Algunas operaciones con listas. Por ejemplo:"
   ]
  },
  {
   "cell_type": "code",
   "execution_count": 4,
   "metadata": {},
   "outputs": [
    {
     "name": "stdout",
     "output_type": "stream",
     "text": [
      "['a', 'b', 'c', 'x', 'y', 'z']\n",
      "['a', 'b', 'c', 'a', 'b', 'c', 'x', 'y', 'z', 'x', 'y', 'z', 'x', 'y', 'z']\n"
     ]
    }
   ],
   "source": [
    "ListaA=[\"a\",\"b\",\"c\"]\n",
    "ListaB=[\"x\",\"y\",\"z\"]\n",
    "print(ListaA+ListaB) #une los elementos de ListaA con ListaB\n",
    "print(2*ListaA+3*ListaB) #duplica ListaA y triplica ListaB y hace la union de ellos  "
   ]
  }
 ],
 "metadata": {
  "kernelspec": {
   "display_name": "Python 3",
   "language": "python",
   "name": "python3"
  },
  "language_info": {
   "codemirror_mode": {
    "name": "ipython",
    "version": 3
   },
   "file_extension": ".py",
   "mimetype": "text/x-python",
   "name": "python",
   "nbconvert_exporter": "python",
   "pygments_lexer": "ipython3",
   "version": "3.8.10"
  }
 },
 "nbformat": 4,
 "nbformat_minor": 2
}
