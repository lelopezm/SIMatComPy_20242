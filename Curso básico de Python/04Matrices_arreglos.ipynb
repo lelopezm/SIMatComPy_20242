{
 "cells": [
  {
   "cell_type": "markdown",
   "metadata": {},
   "source": [
    "# Arreglos y Matrices\n",
    "\n",
    "Primero importamos las dos librerias.\n"
   ]
  },
  {
   "cell_type": "code",
   "execution_count": 1,
   "metadata": {},
   "outputs": [],
   "source": [
    "import numpy as np"
   ]
  },
  {
   "cell_type": "markdown",
   "metadata": {},
   "source": [
    "## Arreglos: \n",
    "Los arreglos de números se hacen con **array** y pueden ser vectores o matrices.\n",
    "\n",
    "Por ejemplo, mostramos como construir algunos vectores:"
   ]
  },
  {
   "cell_type": "code",
   "execution_count": 23,
   "metadata": {},
   "outputs": [],
   "source": [
    "v1 = np.array([1,5,10,12]) #vector v1=[1,5,10,12]\n",
    "v2 = np.array(range(1,31)) #vector cuyas entradas son los números del 1 al 30"
   ]
  },
  {
   "cell_type": "markdown",
   "metadata": {},
   "source": [
    "Una matriz de tamaño $m\\times n$ se crea con **array** de la siguiente forma:"
   ]
  },
  {
   "cell_type": "code",
   "execution_count": 2,
   "metadata": {},
   "outputs": [
    {
     "name": "stdout",
     "output_type": "stream",
     "text": [
      "[[ 1  2  3  4  5]\n",
      " [ 6  7  8  9 10]\n",
      " [11 12 13 14 15]]\n"
     ]
    }
   ],
   "source": [
    "M=np.array([[1,2,3,4,5],[6,7,8,9,10],[11,12,13,14,15]])\n",
    "print(M)"
   ]
  },
  {
   "cell_type": "markdown",
   "metadata": {},
   "source": [
    "Para extraer elementos de la matriz $M$ se hace los siguiente:"
   ]
  },
  {
   "cell_type": "code",
   "execution_count": 3,
   "metadata": {},
   "outputs": [
    {
     "name": "stdout",
     "output_type": "stream",
     "text": [
      "8\n"
     ]
    }
   ],
   "source": [
    "m=2\n",
    "n=3\n",
    "print(M[m-1,n-1]) #extrae el elemento M_{23}"
   ]
  },
  {
   "cell_type": "code",
   "execution_count": 4,
   "metadata": {},
   "outputs": [
    {
     "name": "stdout",
     "output_type": "stream",
     "text": [
      "[ 6  7  8  9 10]\n",
      "[ 4  9 14]\n",
      "[ 5 10 15]\n",
      "[11 13]\n"
     ]
    }
   ],
   "source": [
    "print(M[1,:]) #Fila 2\n",
    "print(M[:,3]) #columna 4\n",
    "print(M[:,-1]) #última columna\n",
    "print(M[-1,0:-1:2]) #última fina saca elemento desde el primero hasta el último (sin tomarlo) de 2 en 2"
   ]
  },
  {
   "cell_type": "markdown",
   "metadata": {},
   "source": [
    "Ahora si tenemos un arreglo en un vector y queremos agrupar dichas entradas en una matriz, usamos la opción **reshape**. Así:"
   ]
  },
  {
   "cell_type": "code",
   "execution_count": 25,
   "metadata": {},
   "outputs": [
    {
     "name": "stdout",
     "output_type": "stream",
     "text": [
      "v2= [ 1  2  3  4  5  6  7  8  9 10 11 12 13 14 15 16 17 18 19 20 21 22 23 24\n",
      " 25 26 27 28 29 30]\n",
      "[[ 1  2  3  4  5]\n",
      " [ 6  7  8  9 10]\n",
      " [11 12 13 14 15]\n",
      " [16 17 18 19 20]\n",
      " [21 22 23 24 25]\n",
      " [26 27 28 29 30]]\n"
     ]
    }
   ],
   "source": [
    "print('v2=',v2)\n",
    "arreglo = v2.reshape(6,5) #en arreglo organizamos las entradas de v2 en un matriz 6X5\n",
    "print(arreglo)"
   ]
  },
  {
   "cell_type": "markdown",
   "metadata": {},
   "source": [
    "### Matrices particulares"
   ]
  },
  {
   "cell_type": "code",
   "execution_count": 5,
   "metadata": {},
   "outputs": [
    {
     "name": "stdout",
     "output_type": "stream",
     "text": [
      "[[0. 0. 0. 0. 0.]\n",
      " [0. 0. 0. 0. 0.]]\n",
      "[[1. 1. 1.]\n",
      " [1. 1. 1.]\n",
      " [1. 1. 1.]]\n",
      "[[7 7 7]\n",
      " [7 7 7]]\n",
      "[[23 23 23 23 23]\n",
      " [23 23 23 23 23]]\n",
      "[[1. 0. 0. 0. 0.]\n",
      " [0. 1. 0. 0. 0.]\n",
      " [0. 0. 1. 0. 0.]\n",
      " [0. 0. 0. 1. 0.]\n",
      " [0. 0. 0. 0. 1.]]\n"
     ]
    }
   ],
   "source": [
    "Mz=np.zeros((2,5)) #matriz de ceros de tamaño 2X5\n",
    "print(Mz)\n",
    "Mo=np.ones((3,3)) #matriz 3X3 llena de unos\n",
    "print(Mo)\n",
    "M7=np.full((2,3),7) #matriz 2X3 llena de sietes\n",
    "print(M7)\n",
    "Mz23 = np.full(Mz.shape,23) #toma la forma (dimensión) de la matriz Mz y la llena de 23\n",
    "print(Mz23) \n",
    "I5 = np.identity(5) #matriz identidad de tamaño 5X5\n",
    "print(I5)"
   ]
  },
  {
   "cell_type": "markdown",
   "metadata": {},
   "source": [
    "**Matrices con entradas aleatorias**"
   ]
  },
  {
   "cell_type": "code",
   "execution_count": 6,
   "metadata": {},
   "outputs": [
    {
     "name": "stdout",
     "output_type": "stream",
     "text": [
      "[[0.42995258 0.57465449]\n",
      " [0.90238339 0.55773385]\n",
      " [0.377671   0.20284267]\n",
      " [0.03342377 0.45711367]]\n",
      "[[ 6  5  7]\n",
      " [ 2 -4 -3]\n",
      " [-3  7 -3]]\n",
      "[[-1.73873668  0.71446136]\n",
      " [ 0.17675057 -0.63161849]]\n"
     ]
    }
   ],
   "source": [
    "Mrand = np.random.rand(4,2) #crea una matriz 4X2 con coeficientes aleatorios entre 0 y 1\n",
    "print(Mrand)\n",
    "MrandI = np.random.randint(-4,8, size=(3,3)) # crea una matriz 3X3 aleatoria con enteros entre -4 y 7 (8-1)\n",
    "print(MrandI)\n",
    "Mnorm = np.random.normal(0,1,size=(2,2)) # crea una matriz 2X2 aleatoria con distribución normal de media 0 y desviación 1\n",
    "print(Mnorm)"
   ]
  },
  {
   "cell_type": "markdown",
   "metadata": {},
   "source": [
    "**Arreglos lineales o vectores**"
   ]
  },
  {
   "cell_type": "code",
   "execution_count": 7,
   "metadata": {},
   "outputs": [
    {
     "name": "stdout",
     "output_type": "stream",
     "text": [
      "[2.         2.33333333 2.66666667 3.         3.33333333 3.66666667\n",
      " 4.         4.33333333 4.66666667 5.        ]\n",
      "[ 4.          5.0396842   6.34960421  8.         10.0793684  12.69920842\n",
      " 16.         20.1587368  25.39841683 32.        ]\n"
     ]
    }
   ],
   "source": [
    "a=2\n",
    "b=5\n",
    "n=10\n",
    "V = np.linspace(a,b,n) #crea un vector fila desde a hasta b (inclusive) dividido en n partes iguales\n",
    "print(V)\n",
    "\n",
    "W = np.logspace(a,b,n, base=2) #crea vector fila desde a hasta b en n partes en escala logaritmica de base 2\n",
    "print(W)"
   ]
  },
  {
   "cell_type": "markdown",
   "metadata": {},
   "source": [
    "**Nota.** Cuando se dese hacer una copia de un array, porque se lo va a modificar, por ejemplo, hacer una copia del vector f en la variable g. No se puede hacer esto:"
   ]
  },
  {
   "cell_type": "code",
   "execution_count": 8,
   "metadata": {},
   "outputs": [
    {
     "name": "stdout",
     "output_type": "stream",
     "text": [
      "[10.   2.5  3. ]\n",
      "[10.   2.5  3. ]\n"
     ]
    }
   ],
   "source": [
    "f=np.linspace(2,3,3)\n",
    "g=f\n",
    "g[0]=10\n",
    "print(f)\n",
    "print(g)"
   ]
  },
  {
   "cell_type": "markdown",
   "metadata": {},
   "source": [
    "Se debe hacer lo siguiente:"
   ]
  },
  {
   "cell_type": "code",
   "execution_count": 9,
   "metadata": {},
   "outputs": [
    {
     "name": "stdout",
     "output_type": "stream",
     "text": [
      "[2.  2.5 3. ]\n",
      "[10.   2.5  3. ]\n"
     ]
    }
   ],
   "source": [
    "f=np.linspace(2,3,3)\n",
    "g=f.copy()\n",
    "g[0]=10\n",
    "print(f)\n",
    "print(g)"
   ]
  },
  {
   "cell_type": "markdown",
   "metadata": {},
   "source": [
    "### Operaciones básicas con matrices"
   ]
  },
  {
   "cell_type": "markdown",
   "metadata": {},
   "source": [
    "Las *operaciones básicas* entre arrays las hace componente a componente:"
   ]
  },
  {
   "cell_type": "code",
   "execution_count": 10,
   "metadata": {},
   "outputs": [
    {
     "name": "stdout",
     "output_type": "stream",
     "text": [
      "A= [1 3 5 7]\n",
      "B= [ 7.  8.  9. 10.]\n",
      "A+B= [ 8. 11. 14. 17.]\n",
      "A*B= [ 7. 24. 45. 70.]\n",
      "3*A= [ 3  9 15 21]\n",
      "3+A= [ 4  6  8 10]\n"
     ]
    }
   ],
   "source": [
    "A=np.array([1,3,5,7])\n",
    "print('A=',A)\n",
    "B=np.linspace(7,10,4)\n",
    "print('B=',B)\n",
    "print('A+B=',A+B)\n",
    "print('A*B=',A*B)\n",
    "print('3*A=',3*A)\n",
    "print('3+A=',3+A)"
   ]
  },
  {
   "cell_type": "markdown",
   "metadata": {},
   "source": [
    "Otras operaciones sobre filas o columnas"
   ]
  },
  {
   "cell_type": "code",
   "execution_count": 11,
   "metadata": {},
   "outputs": [
    {
     "name": "stdout",
     "output_type": "stream",
     "text": [
      "16\n",
      "1\n",
      "7\n"
     ]
    }
   ],
   "source": [
    "print(sum(A)) #suma de los elementos de A\n",
    "print(min(A)) #halla el elemento mínimo de A\n",
    "print(max(A)) #halla el elemento máximo de A"
   ]
  },
  {
   "cell_type": "markdown",
   "metadata": {},
   "source": [
    "Para multiplicar dos matrices, se usa *matmul*"
   ]
  },
  {
   "cell_type": "code",
   "execution_count": 12,
   "metadata": {},
   "outputs": [
    {
     "name": "stdout",
     "output_type": "stream",
     "text": [
      "[[2.48166854 2.48166854 2.48166854 2.48166854 2.48166854]\n",
      " [3.61629972 3.61629972 3.61629972 3.61629972 3.61629972]\n",
      " [3.87036519 3.87036519 3.87036519 3.87036519 3.87036519]]\n"
     ]
    }
   ],
   "source": [
    "M1 = np.random.rand(3,2)\n",
    "M2 = np.full((2,5),3)\n",
    "print(np.matmul(M1,M2))"
   ]
  },
  {
   "cell_type": "markdown",
   "metadata": {},
   "source": [
    "El *determinante* y la *inversa* de una matriz cuadrada se halla con el paquete **linalg**"
   ]
  },
  {
   "cell_type": "code",
   "execution_count": 13,
   "metadata": {},
   "outputs": [],
   "source": [
    "import numpy.linalg as npl"
   ]
  },
  {
   "cell_type": "code",
   "execution_count": 14,
   "metadata": {},
   "outputs": [
    {
     "name": "stdout",
     "output_type": "stream",
     "text": [
      "3.0\n",
      "[[ 0.          1.        ]\n",
      " [-0.33333333  0.66666667]]\n",
      "[[ 2  1]\n",
      " [-3  0]]\n",
      "[1.+1.41421356j 1.-1.41421356j]\n"
     ]
    }
   ],
   "source": [
    "N = np.array([[2,-3],[1,0]])\n",
    "detN = npl.det(N)  #determinante\n",
    "print(round(detN,5)) \n",
    "invN = npl.inv(N) #matriz inversa\n",
    "print(invN)\n",
    "NT = npl.matrix_transpose(N) #matriz transpuesta\n",
    "print(NT)\n",
    "valsN = npl.eigvals(N) #valores propios\n",
    "print(valsN)"
   ]
  }
 ],
 "metadata": {
  "kernelspec": {
   "display_name": "Python 3",
   "language": "python",
   "name": "python3"
  },
  "language_info": {
   "codemirror_mode": {
    "name": "ipython",
    "version": 3
   },
   "file_extension": ".py",
   "mimetype": "text/x-python",
   "name": "python",
   "nbconvert_exporter": "python",
   "pygments_lexer": "ipython3",
   "version": "3.12.4"
  }
 },
 "nbformat": 4,
 "nbformat_minor": 2
}
