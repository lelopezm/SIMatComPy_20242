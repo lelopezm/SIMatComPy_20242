{
 "cells": [
  {
   "cell_type": "markdown",
   "metadata": {},
   "source": [
    "# Análisis de datos con Python\n",
    "### **Luis Eduardo López-Montenegro**"
   ]
  },
  {
   "cell_type": "markdown",
   "metadata": {},
   "source": [
    "## **Tipos de variables:** \n",
    "- Entero (int), string (str), lista "
   ]
  },
  {
   "cell_type": "code",
   "execution_count": 1,
   "metadata": {},
   "outputs": [
    {
     "name": "stdout",
     "output_type": "stream",
     "text": [
      "v1 es de tipo <class 'int'> y su valor es 1024\n",
      "v1 es de tipo <class 'float'> y su valor es 1024.2\n",
      "v1 es de tipo <class 'str'> y su valor es Una cadena\n",
      "v1 es de tipo <class 'list'> y su valor es [1, 2]\n"
     ]
    }
   ],
   "source": [
    "v1=1024\n",
    "v2=1024.2\n",
    "v3='Una cadena'\n",
    "v4=[1,2]\n",
    "print('v1 es de tipo {} y su valor es {}'.format(type(v1),v1))\n",
    "print('v1 es de tipo {} y su valor es {}'.format(type(v2),v2))\n",
    "print('v1 es de tipo {} y su valor es {}'.format(type(v3),v3))\n",
    "print('v1 es de tipo {} y su valor es {}'.format(type(v4),v4))"
   ]
  },
  {
   "cell_type": "markdown",
   "metadata": {},
   "source": [
    "### Formas para imprimir valores de una variable"
   ]
  },
  {
   "cell_type": "code",
   "execution_count": 2,
   "metadata": {},
   "outputs": [
    {
     "name": "stdout",
     "output_type": "stream",
     "text": [
      "El producto entre 5 y 6 es 30\n"
     ]
    }
   ],
   "source": [
    "a=5\n",
    "b=6\n",
    "p=a*b\n",
    "#primera forma\n",
    "print('El producto entre %i y %i es %i'%(a,b,p))"
   ]
  },
  {
   "cell_type": "code",
   "execution_count": 10,
   "metadata": {},
   "outputs": [
    {
     "name": "stdout",
     "output_type": "stream",
     "text": [
      "El producto entre 5 y 6 es 30\n",
      "aXb = 30\n"
     ]
    }
   ],
   "source": [
    "a=5\n",
    "b=6\n",
    "p=a*b\n",
    "#segunda forma\n",
    "print('El producto entre {} y {} es {}'.format(a,b,p))\n",
    "#esta forma se usa para imprimir diferentes combinaciones de variables: str, int, float, etc\n",
    "#si se imprime tipo str se pone una \"f\" al iniciar el paréntesis del print\n",
    "print(f'{\"aXb =\"} {p}')"
   ]
  },
  {
   "cell_type": "markdown",
   "metadata": {},
   "source": [
    "## **Algunas operaciones específicas**\n",
    "\n",
    "- La expresión $a^b$ se escribe $a**b$.\n",
    "- $a//b$ es una operación que calcula el cociente de dividir $a$ entre $b$\n",
    "- $a\\% b$ es una operación que calcula el residuo de dividir $a$ entre $b$"
   ]
  },
  {
   "cell_type": "code",
   "execution_count": 2,
   "metadata": {},
   "outputs": [
    {
     "name": "stdout",
     "output_type": "stream",
     "text": [
      "El cuadrado de 30 es 900\n",
      "El residuo de dividir 30 entre 12 es 6\n",
      "y su cociente es 2\n"
     ]
    }
   ],
   "source": [
    "a=30\n",
    "b=12\n",
    "c=a//b\n",
    "r=a%b\n",
    "a2=a**2\n",
    "print('El cuadrado de %i es %i'%(a,a2))\n",
    "print('El residuo de dividir %i entre %i es %i'%(a,b,r))\n",
    "print('y su cociente es %i'%(c))"
   ]
  },
  {
   "cell_type": "markdown",
   "metadata": {},
   "source": [
    "## **Condicional IF**\n",
    "\n",
    "Para el condicional en Python se usa *if* y debe estan **indentado**, de la siguiente forma:"
   ]
  },
  {
   "cell_type": "code",
   "execution_count": 3,
   "metadata": {},
   "outputs": [
    {
     "name": "stdout",
     "output_type": "stream",
     "text": [
      "51.00 es mayor a 49.75\n"
     ]
    }
   ],
   "source": [
    "x=153/3\n",
    "y=199/4\n",
    "if x <= y:\n",
    "    print('%1.2f es menor o igual a %1.2f'%(x,y))\n",
    "else:\n",
    "    print('%1.2f es mayor a %1.2f'%(x,y))"
   ]
  },
  {
   "cell_type": "markdown",
   "metadata": {},
   "source": [
    "Otro tipo de condicionales usando *elif* que es cuando tenemos más de una condición (*else if*)"
   ]
  },
  {
   "cell_type": "code",
   "execution_count": 4,
   "metadata": {},
   "outputs": [
    {
     "name": "stdout",
     "output_type": "stream",
     "text": [
      "El número 9007 no es múltiplo de 2, ni de 3, ni de 5\n"
     ]
    }
   ],
   "source": [
    "d=9007\n",
    "if d%2==0:\n",
    "    print('El número %i es múltiplo de 2'%(d))\n",
    "elif d%3==0:\n",
    "    print('El número %i es múltiplo de 3'%(d))\n",
    "elif d%5==0:\n",
    "    print('El número %i es múltiplo de 5'%(d))\n",
    "else:\n",
    "    print('El número %i no es múltiplo de 2, ni de 3, ni de 5'%(d))"
   ]
  },
  {
   "cell_type": "markdown",
   "metadata": {},
   "source": [
    "## **Ciclo FOR**\n",
    "\n",
    "En el ciclo FOR se usa un *contador*, por ejemplo, $i$, el cual varía en una lista. Si deseo que varie en los números naturales desde cero hasta llegar a $n-1$, usamos **range(n)**. Pero si deseo iniciar desde un valor $a$ hasta $n-1$, se escribe **range(a,n)**. Este ciclo tiene la siguiente estructura:"
   ]
  },
  {
   "cell_type": "code",
   "execution_count": 5,
   "metadata": {},
   "outputs": [
    {
     "name": "stdout",
     "output_type": "stream",
     "text": [
      "1\n",
      "2\n",
      "3\n",
      "4\n",
      "5\n"
     ]
    }
   ],
   "source": [
    "a=1\n",
    "n=6\n",
    "for i in range(a,n):\n",
    "    print(i)"
   ]
  },
  {
   "cell_type": "markdown",
   "metadata": {},
   "source": [
    "## Otra forma como actual el ciclo **FOR**  \n",
    "\n",
    "FOR puede actuar sobre String (cadenas) o List (listas). Por ejemplo, el siguiente ciclo genera una cadena invertida (palabra invertida sus letras)."
   ]
  },
  {
   "cell_type": "code",
   "execution_count": 18,
   "metadata": {},
   "outputs": [
    {
     "name": "stdout",
     "output_type": "stream",
     "text": [
      "La palabra LUIS invertida es SIUL\n"
     ]
    }
   ],
   "source": [
    "Inverted=\"\" # generamos una lista vacía llamada Inverted\n",
    "lista = \"LUIS\" \n",
    "for k in lista: #El ciclo se define sobre la lista LUIS\n",
    "    Inverted = k + Inverted\n",
    "\n",
    "print(f\"La palabra {lista} invertida es {Inverted}\") #f se usa para imprimir variables tipo str"
   ]
  },
  {
   "cell_type": "markdown",
   "metadata": {},
   "source": [
    "Para generar un ciclo que incie en $a$ y finalice en el valor anterior a $b$ a un paso $h$. "
   ]
  },
  {
   "cell_type": "code",
   "execution_count": 11,
   "metadata": {},
   "outputs": [
    {
     "name": "stdout",
     "output_type": "stream",
     "text": [
      "2\n",
      "5\n",
      "8\n",
      "11\n",
      "14\n"
     ]
    }
   ],
   "source": [
    "a=2\n",
    "b=15\n",
    "h=3\n",
    "\n",
    "for k in range(a,b,h):\n",
    "    print(k)"
   ]
  },
  {
   "cell_type": "markdown",
   "metadata": {},
   "source": [
    "# Sentencia WHILE\n",
    "\n",
    "Otro tipo de ciclo es usar la sentencia **while**, la cual tiene la siguiente estructura. En este código se calcula la suma $$\\sum_{i=0}^{n}i$$ para algún $n$ en los números naturales."
   ]
  },
  {
   "cell_type": "code",
   "execution_count": 10,
   "metadata": {},
   "outputs": [
    {
     "name": "stdout",
     "output_type": "stream",
     "text": [
      "La suma de los 100 primeros naturales es 5050\n"
     ]
    }
   ],
   "source": [
    "s=0\n",
    "i=0\n",
    "n=100\n",
    "while i<=n:\n",
    "    s=s+i\n",
    "    i=i+1\n",
    "\n",
    "print('La suma de los %i primeros naturales es %i'%(n,s))"
   ]
  }
 ],
 "metadata": {
  "kernelspec": {
   "display_name": "Python 3",
   "language": "python",
   "name": "python3"
  },
  "language_info": {
   "codemirror_mode": {
    "name": "ipython",
    "version": 3
   },
   "file_extension": ".py",
   "mimetype": "text/x-python",
   "name": "python",
   "nbconvert_exporter": "python",
   "pygments_lexer": "ipython3",
   "version": "3.8.10"
  }
 },
 "nbformat": 4,
 "nbformat_minor": 2
}
