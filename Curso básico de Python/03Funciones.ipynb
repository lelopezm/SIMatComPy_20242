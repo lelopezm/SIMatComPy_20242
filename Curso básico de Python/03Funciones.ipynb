{
 "cells": [
  {
   "cell_type": "markdown",
   "metadata": {},
   "source": [
    "# Funciones\n",
    "\n",
    "Para crear una función usamos **def**. El siguiente ejemplo, muestra como crear la función matemática $f(x)=x^2-4x$."
   ]
  },
  {
   "cell_type": "code",
   "execution_count": 1,
   "metadata": {},
   "outputs": [],
   "source": [
    "def f(x):\n",
    "    return x**2 - 4*x"
   ]
  },
  {
   "cell_type": "markdown",
   "metadata": {},
   "source": [
    "Ahora vamos a evaluar la función en diferentes puntos:"
   ]
  },
  {
   "cell_type": "code",
   "execution_count": 6,
   "metadata": {},
   "outputs": [
    {
     "name": "stdout",
     "output_type": "stream",
     "text": [
      "-4\n"
     ]
    }
   ],
   "source": [
    "print(f(2)) #hallamos el valor de f(2)"
   ]
  },
  {
   "cell_type": "markdown",
   "metadata": {},
   "source": [
    "Una función en python no sólo es matemática. Por ejemplo, la siguiente función define un saludo para una persona X. "
   ]
  },
  {
   "cell_type": "code",
   "execution_count": 7,
   "metadata": {},
   "outputs": [],
   "source": [
    "def saludo(persona):\n",
    "    print('Hola', persona,'!')\n",
    "    print('bienvenido a python')"
   ]
  },
  {
   "cell_type": "code",
   "execution_count": 8,
   "metadata": {},
   "outputs": [
    {
     "name": "stdout",
     "output_type": "stream",
     "text": [
      "Hola Luis !\n",
      "bienvenido a python\n"
     ]
    }
   ],
   "source": [
    "saludo('Luis')"
   ]
  },
  {
   "cell_type": "markdown",
   "metadata": {},
   "source": [
    "Nótese que esta función **saludo** no tiene un retorno (return)."
   ]
  },
  {
   "cell_type": "markdown",
   "metadata": {},
   "source": [
    "Ahora vamos a contruir una función que no tiene entradas ni salidas. Las estradas las piden al ejecutar la función. En el siguiente ejemplo, se pide dos números enteros y se muestran los cuadrados que hay entre esos dos números."
   ]
  },
  {
   "cell_type": "code",
   "execution_count": 13,
   "metadata": {},
   "outputs": [],
   "source": [
    "def main():\n",
    "    print('Se calcularán los cuadrados de $a$ hasta $b$.')\n",
    "    a = int(input('Ingrese el primer número entero a'))\n",
    "    b = int(input('Ingrese el segundo número entero b'))\n",
    "    for x in range(a,b):\n",
    "        print('el cuadrado de %i es %i'%(x,x**2))\n",
    "    \n",
    "    print('estos son todos los cuadrados entre %i y %i.'%(a,b))\n"
   ]
  },
  {
   "cell_type": "code",
   "execution_count": 14,
   "metadata": {},
   "outputs": [
    {
     "name": "stdout",
     "output_type": "stream",
     "text": [
      "Se calcularán los cuadrados de $a$ hasta $b$.\n",
      "el cuadrado de 3 es 9\n",
      "el cuadrado de 4 es 16\n",
      "el cuadrado de 5 es 25\n",
      "el cuadrado de 6 es 36\n",
      "el cuadrado de 7 es 49\n",
      "el cuadrado de 8 es 64\n",
      "el cuadrado de 9 es 81\n",
      "el cuadrado de 10 es 100\n",
      "el cuadrado de 11 es 121\n",
      "estos son todos los cuadrados entre 3 y 12.\n"
     ]
    }
   ],
   "source": [
    "main()"
   ]
  },
  {
   "cell_type": "markdown",
   "metadata": {},
   "source": [
    "**Ejemplo:** la siguiente función pasa *segundos* a *horas*. Aquí hay una variable de entrada y tres de salida."
   ]
  },
  {
   "cell_type": "code",
   "execution_count": 26,
   "metadata": {},
   "outputs": [],
   "source": [
    "def segundos_horas(t):\n",
    "    hs = t // 3600\n",
    "    min = (t % 3600) // 60\n",
    "    seg = (t % 3600) % 60\n",
    "    return hs, min, seg"
   ]
  },
  {
   "cell_type": "code",
   "execution_count": 27,
   "metadata": {},
   "outputs": [
    {
     "name": "stdout",
     "output_type": "stream",
     "text": [
      "10480 segundos equivalen a 2 horas, 54 minutos y 40 segundos\n"
     ]
    }
   ],
   "source": [
    "t = 10480\n",
    "horas, minutos, segundos = segundos_horas(t)\n",
    "\n",
    "print('%i segundos equivalen a %i horas, %i minutos y %i segundos'%(t, horas, minutos, segundos))"
   ]
  }
 ],
 "metadata": {
  "kernelspec": {
   "display_name": "Python 3",
   "language": "python",
   "name": "python3"
  },
  "language_info": {
   "codemirror_mode": {
    "name": "ipython",
    "version": 3
   },
   "file_extension": ".py",
   "mimetype": "text/x-python",
   "name": "python",
   "nbconvert_exporter": "python",
   "pygments_lexer": "ipython3",
   "version": "3.11.3"
  }
 },
 "nbformat": 4,
 "nbformat_minor": 2
}
